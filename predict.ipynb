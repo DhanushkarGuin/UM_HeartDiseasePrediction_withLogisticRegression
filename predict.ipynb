{
 "cells": [
  {
   "cell_type": "markdown",
   "id": "2b011aad",
   "metadata": {},
   "source": [
    "Cell 1: Necessary Imports"
   ]
  },
  {
   "cell_type": "code",
   "execution_count": null,
   "id": "9398f055",
   "metadata": {},
   "outputs": [],
   "source": [
    "import pickle\n",
    "import pandas as pd"
   ]
  },
  {
   "cell_type": "markdown",
   "id": "952b0ce2",
   "metadata": {},
   "source": [
    "Cell 2: Loading pipeline"
   ]
  },
  {
   "cell_type": "code",
   "execution_count": null,
   "id": "a3610ca8",
   "metadata": {},
   "outputs": [],
   "source": [
    "pipeline = pickle.load(open('pipeline.pkl', 'rb'))"
   ]
  },
  {
   "cell_type": "markdown",
   "id": "2980ee3f",
   "metadata": {},
   "source": [
    "Cell 3: Column names"
   ]
  },
  {
   "cell_type": "code",
   "execution_count": null,
   "id": "c9d3d438",
   "metadata": {},
   "outputs": [],
   "source": [
    "columns= ['age', 'sex', 'chest pain type', 'resting bp s', 'cholesterol', 'fasting blood sugar', 'resting ecg', 'max heart rate', 'exercise angina', 'oldpeak', 'ST slope']"
   ]
  },
  {
   "cell_type": "markdown",
   "id": "3f67c64e",
   "metadata": {},
   "source": [
    "Cell 4: Accepting or defining input"
   ]
  },
  {
   "cell_type": "code",
   "execution_count": null,
   "id": "a0ae1fa6",
   "metadata": {},
   "outputs": [],
   "source": [
    "test_input = pd.DataFrame([[32,1,2,120,240,0,0,170,1,1.5,1]], columns = columns)"
   ]
  },
  {
   "cell_type": "markdown",
   "id": "f6603b13",
   "metadata": {},
   "source": [
    "Cell 5: Predictions"
   ]
  },
  {
   "cell_type": "code",
   "execution_count": null,
   "id": "90961b1d",
   "metadata": {},
   "outputs": [],
   "source": [
    "predictions = pipeline.predict(test_input)\n",
    "print(predictions)"
   ]
  }
 ],
 "metadata": {
  "language_info": {
   "name": "python"
  }
 },
 "nbformat": 4,
 "nbformat_minor": 5
}
