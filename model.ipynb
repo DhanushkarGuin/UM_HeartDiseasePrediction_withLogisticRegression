{
 "cells": [
  {
   "cell_type": "markdown",
   "id": "7e9993c4",
   "metadata": {},
   "source": [
    "# Project : Heart Disease Prediction\n"
   ]
  },
  {
   "cell_type": "markdown",
   "id": "29f155d6",
   "metadata": {},
   "source": [
    "Cell 1 - Necessary Imports"
   ]
  },
  {
   "cell_type": "code",
   "execution_count": null,
   "id": "0b8cd644",
   "metadata": {},
   "outputs": [],
   "source": [
    "import pandas as pd\n",
    "from sklearn.pipeline import Pipeline\n",
    "from sklearn.linear_model import LogisticRegression\n",
    "from sklearn.preprocessing import StandardScaler \n",
    "from sklearn.model_selection import train_test_split\n",
    "from sklearn.metrics import precision_score,recall_score\n",
    "import pickle"
   ]
  },
  {
   "cell_type": "markdown",
   "id": "12a8327d",
   "metadata": {},
   "source": [
    "Cell 2 - Load the dataset"
   ]
  },
  {
   "cell_type": "code",
   "execution_count": null,
   "id": "d34da392",
   "metadata": {},
   "outputs": [],
   "source": [
    "dataset = pd.read_csv('dataset.csv')\n",
    "X = dataset.iloc[:, :-1]\n",
    "Y = dataset.iloc[:, -1].values"
   ]
  },
  {
   "cell_type": "markdown",
   "id": "144aef5f",
   "metadata": {},
   "source": [
    "Cell 3 - Split the dataset into training and testing sets"
   ]
  },
  {
   "cell_type": "code",
   "execution_count": null,
   "id": "c3408d6c",
   "metadata": {},
   "outputs": [],
   "source": [
    "X_train, X_test, Y_train, Y_test = train_test_split(X, Y, test_size=0.2, random_state=0)"
   ]
  },
  {
   "cell_type": "markdown",
   "id": "74e61e38",
   "metadata": {},
   "source": [
    "Cell 5 - Pipeline"
   ]
  },
  {
   "cell_type": "code",
   "execution_count": null,
   "id": "7bd47db8",
   "metadata": {},
   "outputs": [],
   "source": [
    "pipeline = Pipeline([\n",
    "    ('scaler', StandardScaler()),\n",
    "    ('logreg', LogisticRegression())\n",
    "])\n",
    "\n",
    "pipeline.fit(X_train,Y_train)"
   ]
  },
  {
   "cell_type": "markdown",
   "id": "10862c16",
   "metadata": {},
   "source": [
    "Cell 6 - Predictions and evaluation"
   ]
  },
  {
   "cell_type": "code",
   "execution_count": null,
   "id": "0a6909fb",
   "metadata": {},
   "outputs": [],
   "source": [
    "predictions = pipeline.predict(X_test) \n",
    "\n",
    "scores = pipeline.score(X_test,Y_test)\n",
    "print(\"Accuracy of model:\", scores)\n",
    "\n",
    "precision = precision_score(Y_test,predictions)\n",
    "recall = recall_score(Y_test,predictions)\n",
    "print('Precision:', precision)\n",
    "print('Recall:', recall)"
   ]
  },
  {
   "cell_type": "markdown",
   "id": "143229eb",
   "metadata": {},
   "source": [
    "Cell 11 - Exporting the pickle file"
   ]
  },
  {
   "cell_type": "code",
   "execution_count": null,
   "id": "e138d714",
   "metadata": {},
   "outputs": [],
   "source": [
    "pickle.dump(pipeline, open('pipeline.pkl', 'wb'))"
   ]
  }
 ],
 "metadata": {
  "language_info": {
   "name": "python"
  }
 },
 "nbformat": 4,
 "nbformat_minor": 5
}
