{
 "cells": [
  {
   "cell_type": "markdown",
   "id": "7e9993c4",
   "metadata": {},
   "source": [
    "# Project : Heart Disease Prediction\n"
   ]
  },
  {
   "cell_type": "markdown",
   "id": "29f155d6",
   "metadata": {},
   "source": [
    "Cell 1 - Necessary Imports"
   ]
  },
  {
   "cell_type": "code",
   "execution_count": null,
   "id": "0b8cd644",
   "metadata": {},
   "outputs": [],
   "source": [
    "import numpy as np\n",
    "import pandas as pd\n",
    "from sklearn.linear_model import LogisticRegression\n",
    "from sklearn.preprocessing import StandardScaler \n",
    "from sklearn.model_selection import train_test_split"
   ]
  },
  {
   "cell_type": "markdown",
   "id": "12a8327d",
   "metadata": {},
   "source": [
    "Cell 2 - Load the dataset"
   ]
  },
  {
   "cell_type": "code",
   "execution_count": null,
   "id": "d34da392",
   "metadata": {},
   "outputs": [],
   "source": [
    "dataset = pd.read_csv('dataset.csv')\n",
    "X = dataset.iloc[:, :-1]\n",
    "Y = dataset.iloc[:, -1].values"
   ]
  },
  {
   "cell_type": "markdown",
   "id": "d3ef6dab",
   "metadata": {},
   "source": [
    "Cell 3 - Scale the data to improve model performance and convergence"
   ]
  },
  {
   "cell_type": "code",
   "execution_count": null,
   "id": "09aff5d2",
   "metadata": {},
   "outputs": [],
   "source": [
    "scaler = StandardScaler()\n",
    "X_scaled = scaler.fit_transform(X)"
   ]
  },
  {
   "cell_type": "markdown",
   "id": "144aef5f",
   "metadata": {},
   "source": [
    "Cell 4 - Split the dataset into training and testing sets"
   ]
  },
  {
   "cell_type": "code",
   "execution_count": null,
   "id": "c3408d6c",
   "metadata": {},
   "outputs": [],
   "source": [
    "X_train, X_test, Y_train, Y_test = train_test_split(X_scaled, Y, test_size=0.1, random_state=0)"
   ]
  },
  {
   "cell_type": "markdown",
   "id": "74e61e38",
   "metadata": {},
   "source": [
    "Cell 5 - Train the logistic regression model"
   ]
  },
  {
   "cell_type": "code",
   "execution_count": null,
   "id": "7bd47db8",
   "metadata": {},
   "outputs": [],
   "source": [
    "model = LogisticRegression()\n",
    "model.fit(X_train, Y_train)"
   ]
  },
  {
   "cell_type": "markdown",
   "id": "10862c16",
   "metadata": {},
   "source": [
    "Cell 6 - Make predictions on the test set"
   ]
  },
  {
   "cell_type": "code",
   "execution_count": null,
   "id": "0a6909fb",
   "metadata": {},
   "outputs": [],
   "source": [
    "predictions = model.predict(X_test)\n",
    "print(\"Predictions:\", predictions)"
   ]
  },
  {
   "cell_type": "markdown",
   "id": "5e206f16",
   "metadata": {},
   "source": [
    "Cell 7 - Print accuracy score"
   ]
  },
  {
   "cell_type": "code",
   "execution_count": null,
   "id": "3c6445e0",
   "metadata": {},
   "outputs": [],
   "source": [
    "accuracy = model.score(X_test, Y_test)\n",
    "print(\"Accuracy of model:\", accuracy)"
   ]
  },
  {
   "cell_type": "markdown",
   "id": "d5ff6e01",
   "metadata": {},
   "source": [
    "Cell 8 - Print coefficient and the intercept of the model"
   ]
  },
  {
   "cell_type": "code",
   "execution_count": null,
   "id": "54ef1137",
   "metadata": {},
   "outputs": [],
   "source": [
    "print(\"Coefficient of the Model:\", model.coef_)\n",
    "print(\"Intercept of the Model:\", model.intercept_)"
   ]
  },
  {
   "cell_type": "markdown",
   "id": "03c105a7",
   "metadata": {},
   "source": [
    "Cell 9 - Take user input for live prediction"
   ]
  },
  {
   "cell_type": "code",
   "execution_count": null,
   "id": "74170810",
   "metadata": {},
   "outputs": [],
   "source": [
    "print(\"Enter the details asked below to check your heart's state!\")\n",
    "age = int(input(\"Enter your age(in years):\"))\n",
    "sex = int(input(\"Your sex(0=female,1=male):\"))\n",
    "chestPainType = int(input(\"Type of chest pain(1 = typical angina,2 = atypical angina,3 = non-anginal pain,4 = asymptomatic):\"))\n",
    "bloodPressure = int(input(\"Resting blood pressure(in mm):\"))\n",
    "serumCholestrol = int(input(\"Cholestrol(in mg/dl):\"))\n",
    "bloodSugar = int(input(\"Fasting Blood Sugar(1 = sugar > 120mg/dl, 0 = sugar < 120mg/dl):\"))\n",
    "restingECG = int(input(\"Resting ECG(0 = normal, 1 = ST-T wave abnormality, 2 = Probable or Definite Left Ventricular hypertrophy):\"))\n",
    "maxHeartRate = int(input(\"Max Heart Rate:\"))\n",
    "exercisedAngina = int(input(\"Exercise Angina(0 = no, 1 = yes):\"))\n",
    "oldpeak = float(input(\"Oldpeak:\"))\n",
    "Stslope = int(input(\"ST Slope(1 = upward,2 = flat,3 = downward):\"))"
   ]
  },
  {
   "cell_type": "markdown",
   "id": "62c9429a",
   "metadata": {},
   "source": [
    "Cell 10 - Create DataFrame for prediction and scale it"
   ]
  },
  {
   "cell_type": "code",
   "execution_count": null,
   "id": "413a5c52",
   "metadata": {},
   "outputs": [],
   "source": [
    "user_input = pd.DataFrame([[age,sex,chestPainType,bloodPressure,\n",
    "                        serumCholestrol,bloodSugar,restingECG,\n",
    "                        maxHeartRate,exercisedAngina,oldpeak,Stslope]], \n",
    "                        columns=X.columns)\n",
    "user_input_scaled = scaler.transform(user_input)"
   ]
  },
  {
   "cell_type": "markdown",
   "id": "143229eb",
   "metadata": {},
   "source": [
    "Cell 11 - Make prediction based on user input"
   ]
  },
  {
   "cell_type": "code",
   "execution_count": null,
   "id": "e138d714",
   "metadata": {},
   "outputs": [],
   "source": [
    "user_prediction = model.predict(user_input_scaled)\n",
    "print(\"\\nPrediction Result:\", \"No Heart Disease\" if user_prediction[0] == 1 else \"Has a Heart Disease\")"
   ]
  }
 ],
 "metadata": {
  "language_info": {
   "name": "python"
  }
 },
 "nbformat": 4,
 "nbformat_minor": 5
}
